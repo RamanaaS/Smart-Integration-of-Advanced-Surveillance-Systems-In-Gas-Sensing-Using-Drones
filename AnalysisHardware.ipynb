{
 "cells": [
  {
   "cell_type": "code",
   "execution_count": 1,
   "metadata": {},
   "outputs": [],
   "source": [
    "import numpy as np\n",
    "import pandas as pd\n",
    "import matplotlib.pyplot as plt\n",
    "from matplotlib import rcParams\n",
    "from matplotlib.cm import rainbow\n",
    "\n",
    "import warnings\n",
    "warnings.filterwarnings('ignore')\n",
    "\n",
    "from sklearn.model_selection import train_test_split\n",
    "from sklearn.preprocessing import StandardScaler\n",
    "\n",
    "from sklearn.tree import DecisionTreeClassifier\n",
    "from sklearn.naive_bayes import GaussianNB\n",
    "from sklearn.metrics import classification_report, confusion_matrix"
   ]
  },
  {
   "cell_type": "code",
   "execution_count": 2,
   "metadata": {},
   "outputs": [],
   "source": [
    "dataset = pd.read_csv('dronedata1000.csv')"
   ]
  },
  {
   "cell_type": "code",
   "execution_count": 3,
   "metadata": {},
   "outputs": [
    {
     "data": {
      "text/html": [
       "<div>\n",
       "<style scoped>\n",
       "    .dataframe tbody tr th:only-of-type {\n",
       "        vertical-align: middle;\n",
       "    }\n",
       "\n",
       "    .dataframe tbody tr th {\n",
       "        vertical-align: top;\n",
       "    }\n",
       "\n",
       "    .dataframe thead th {\n",
       "        text-align: right;\n",
       "    }\n",
       "</style>\n",
       "<table border=\"1\" class=\"dataframe\">\n",
       "  <thead>\n",
       "    <tr style=\"text-align: right;\">\n",
       "      <th></th>\n",
       "      <th>Temperature</th>\n",
       "      <th>Humidity</th>\n",
       "      <th>AirQuality</th>\n",
       "      <th>Carbonmonoxide</th>\n",
       "      <th>Gas</th>\n",
       "      <th>pressure</th>\n",
       "      <th>Latitude</th>\n",
       "      <th>Longitude</th>\n",
       "      <th>label</th>\n",
       "    </tr>\n",
       "  </thead>\n",
       "  <tbody>\n",
       "    <tr>\n",
       "      <th>0</th>\n",
       "      <td>98</td>\n",
       "      <td>34</td>\n",
       "      <td>59</td>\n",
       "      <td>129</td>\n",
       "      <td>76</td>\n",
       "      <td>972</td>\n",
       "      <td>11.192490</td>\n",
       "      <td>77.164340</td>\n",
       "      <td>2</td>\n",
       "    </tr>\n",
       "    <tr>\n",
       "      <th>1</th>\n",
       "      <td>87</td>\n",
       "      <td>46</td>\n",
       "      <td>92</td>\n",
       "      <td>232</td>\n",
       "      <td>15</td>\n",
       "      <td>1006</td>\n",
       "      <td>11.159447</td>\n",
       "      <td>77.190210</td>\n",
       "      <td>2</td>\n",
       "    </tr>\n",
       "    <tr>\n",
       "      <th>2</th>\n",
       "      <td>118</td>\n",
       "      <td>41</td>\n",
       "      <td>71</td>\n",
       "      <td>169</td>\n",
       "      <td>29</td>\n",
       "      <td>965</td>\n",
       "      <td>11.166370</td>\n",
       "      <td>77.102925</td>\n",
       "      <td>1</td>\n",
       "    </tr>\n",
       "    <tr>\n",
       "      <th>3</th>\n",
       "      <td>101</td>\n",
       "      <td>48</td>\n",
       "      <td>86</td>\n",
       "      <td>5</td>\n",
       "      <td>71</td>\n",
       "      <td>1010</td>\n",
       "      <td>11.139488</td>\n",
       "      <td>77.142327</td>\n",
       "      <td>1</td>\n",
       "    </tr>\n",
       "    <tr>\n",
       "      <th>4</th>\n",
       "      <td>115</td>\n",
       "      <td>31</td>\n",
       "      <td>8</td>\n",
       "      <td>3</td>\n",
       "      <td>13</td>\n",
       "      <td>1061</td>\n",
       "      <td>11.193890</td>\n",
       "      <td>77.191036</td>\n",
       "      <td>2</td>\n",
       "    </tr>\n",
       "    <tr>\n",
       "      <th>...</th>\n",
       "      <td>...</td>\n",
       "      <td>...</td>\n",
       "      <td>...</td>\n",
       "      <td>...</td>\n",
       "      <td>...</td>\n",
       "      <td>...</td>\n",
       "      <td>...</td>\n",
       "      <td>...</td>\n",
       "      <td>...</td>\n",
       "    </tr>\n",
       "    <tr>\n",
       "      <th>996</th>\n",
       "      <td>114</td>\n",
       "      <td>35</td>\n",
       "      <td>56</td>\n",
       "      <td>107</td>\n",
       "      <td>45</td>\n",
       "      <td>1091</td>\n",
       "      <td>11.117671</td>\n",
       "      <td>77.189774</td>\n",
       "      <td>1</td>\n",
       "    </tr>\n",
       "    <tr>\n",
       "      <th>997</th>\n",
       "      <td>108</td>\n",
       "      <td>38</td>\n",
       "      <td>20</td>\n",
       "      <td>274</td>\n",
       "      <td>37</td>\n",
       "      <td>985</td>\n",
       "      <td>11.155485</td>\n",
       "      <td>77.168198</td>\n",
       "      <td>2</td>\n",
       "    </tr>\n",
       "    <tr>\n",
       "      <th>998</th>\n",
       "      <td>119</td>\n",
       "      <td>36</td>\n",
       "      <td>16</td>\n",
       "      <td>128</td>\n",
       "      <td>1</td>\n",
       "      <td>1018</td>\n",
       "      <td>11.133535</td>\n",
       "      <td>77.130832</td>\n",
       "      <td>2</td>\n",
       "    </tr>\n",
       "    <tr>\n",
       "      <th>999</th>\n",
       "      <td>116</td>\n",
       "      <td>39</td>\n",
       "      <td>33</td>\n",
       "      <td>305</td>\n",
       "      <td>77</td>\n",
       "      <td>918</td>\n",
       "      <td>11.180928</td>\n",
       "      <td>77.139973</td>\n",
       "      <td>2</td>\n",
       "    </tr>\n",
       "    <tr>\n",
       "      <th>1000</th>\n",
       "      <td>97</td>\n",
       "      <td>41</td>\n",
       "      <td>77</td>\n",
       "      <td>498</td>\n",
       "      <td>33</td>\n",
       "      <td>1062</td>\n",
       "      <td>11.131902</td>\n",
       "      <td>77.139298</td>\n",
       "      <td>1</td>\n",
       "    </tr>\n",
       "  </tbody>\n",
       "</table>\n",
       "<p>1001 rows × 9 columns</p>\n",
       "</div>"
      ],
      "text/plain": [
       "      Temperature  Humidity  AirQuality  Carbonmonoxide  Gas  pressure  \\\n",
       "0              98        34          59             129   76       972   \n",
       "1              87        46          92             232   15      1006   \n",
       "2             118        41          71             169   29       965   \n",
       "3             101        48          86               5   71      1010   \n",
       "4             115        31           8               3   13      1061   \n",
       "...           ...       ...         ...             ...  ...       ...   \n",
       "996           114        35          56             107   45      1091   \n",
       "997           108        38          20             274   37       985   \n",
       "998           119        36          16             128    1      1018   \n",
       "999           116        39          33             305   77       918   \n",
       "1000           97        41          77             498   33      1062   \n",
       "\n",
       "       Latitude  Longitude  label  \n",
       "0     11.192490  77.164340      2  \n",
       "1     11.159447  77.190210      2  \n",
       "2     11.166370  77.102925      1  \n",
       "3     11.139488  77.142327      1  \n",
       "4     11.193890  77.191036      2  \n",
       "...         ...        ...    ...  \n",
       "996   11.117671  77.189774      1  \n",
       "997   11.155485  77.168198      2  \n",
       "998   11.133535  77.130832      2  \n",
       "999   11.180928  77.139973      2  \n",
       "1000  11.131902  77.139298      1  \n",
       "\n",
       "[1001 rows x 9 columns]"
      ]
     },
     "execution_count": 3,
     "metadata": {},
     "output_type": "execute_result"
    }
   ],
   "source": [
    "dataset"
   ]
  },
  {
   "cell_type": "code",
   "execution_count": 4,
   "metadata": {},
   "outputs": [
    {
     "data": {
      "text/plain": [
       "Text(0.5, 1.0, 'Count of each Target Class')"
      ]
     },
     "execution_count": 4,
     "metadata": {},
     "output_type": "execute_result"
    },
    {
     "data": {
      "image/png": "[encoded data removed]",
      "text/plain": [
       "<Figure size 800x600 with 1 Axes>"
      ]
     },
     "metadata": {},
     "output_type": "display_data"
    }
   ],
   "source": [
    "rcParams['figure.figsize'] = 8,6\n",
    "plt.bar(dataset['label'].unique(), dataset['label'].value_counts(), color = ['red', 'green'])\n",
    "plt.xticks([2, 1])\n",
    "plt.xlabel('Target Classes')\n",
    "plt.ylabel('Count')\n",
    "plt.title('Count of each Target Class')"
   ]
  },
  {
   "cell_type": "code",
   "execution_count": 5,
   "metadata": {},
   "outputs": [],
   "source": [
    "y = dataset['label']\n",
    "X = dataset.drop(['label'], axis = 1)\n",
    "X_train, X_test, y_train, y_test = train_test_split(X, y, test_size = 0.2, random_state = 0)"
   ]
  },
  {
   "cell_type": "code",
   "execution_count": 6,
   "metadata": {},
   "outputs": [],
   "source": [
    "gnb = GaussianNB()"
   ]
  },
  {
   "cell_type": "code",
   "execution_count": 7,
   "metadata": {},
   "outputs": [
    {
     "data": {
      "text/html": [
       "<style>#sk-container-id-1 {color: black;background-color: white;}#sk-container-id-1 pre{padding: 0;}#sk-container-id-1 div.sk-toggleable {background-color: white;}#sk-container-id-1 label.sk-toggleable__label {cursor: pointer;display: block;width: 100%;margin-bottom: 0;padding: 0.3em;box-sizing: border-box;text-align: center;}#sk-container-id-1 label.sk-toggleable__label-arrow:before {content: \"▸\";float: left;margin-right: 0.25em;color: #696969;}#sk-container-id-1 label.sk-toggleable__label-arrow:hover:before {color: black;}#sk-container-id-1 div.sk-estimator:hover label.sk-toggleable__label-arrow:before {color: black;}#sk-container-id-1 div.sk-toggleable__content {max-height: 0;max-width: 0;overflow: hidden;text-align: left;background-color: #f0f8ff;}#sk-container-id-1 div.sk-toggleable__content pre {margin: 0.2em;color: black;border-radius: 0.25em;background-color: #f0f8ff;}#sk-container-id-1 input.sk-toggleable__control:checked~div.sk-toggleable__content {max-height: 200px;max-width: 100%;overflow: auto;}#sk-container-id-1 input.sk-toggleable__control:checked~label.sk-toggleable__label-arrow:before {content: \"▾\";}#sk-container-id-1 div.sk-estimator input.sk-toggleable__control:checked~label.sk-toggleable__label {background-color: #d4ebff;}#sk-container-id-1 div.sk-label input.sk-toggleable__control:checked~label.sk-toggleable__label {background-color: #d4ebff;}#sk-container-id-1 input.sk-hidden--visually {border: 0;clip: rect(1px 1px 1px 1px);clip: rect(1px, 1px, 1px, 1px);height: 1px;margin: -1px;overflow: hidden;padding: 0;position: absolute;width: 1px;}#sk-container-id-1 div.sk-estimator {font-family: monospace;background-color: #f0f8ff;border: 1px dotted black;border-radius: 0.25em;box-sizing: border-box;margin-bottom: 0.5em;}#sk-container-id-1 div.sk-estimator:hover {background-color: #d4ebff;}#sk-container-id-1 div.sk-parallel-item::after {content: \"\";width: 100%;border-bottom: 1px solid gray;flex-grow: 1;}#sk-container-id-1 div.sk-label:hover label.sk-toggleable__label {background-color: #d4ebff;}#sk-container-id-1 div.sk-serial::before {content: \"\";position: absolute;border-left: 1px solid gray;box-sizing: border-box;top: 0;bottom: 0;left: 50%;z-index: 0;}#sk-container-id-1 div.sk-serial {display: flex;flex-direction: column;align-items: center;background-color: white;padding-right: 0.2em;padding-left: 0.2em;position: relative;}#sk-container-id-1 div.sk-item {position: relative;z-index: 1;}#sk-container-id-1 div.sk-parallel {display: flex;align-items: stretch;justify-content: center;background-color: white;position: relative;}#sk-container-id-1 div.sk-item::before, #sk-container-id-1 div.sk-parallel-item::before {content: \"\";position: absolute;border-left: 1px solid gray;box-sizing: border-box;top: 0;bottom: 0;left: 50%;z-index: -1;}#sk-container-id-1 div.sk-parallel-item {display: flex;flex-direction: column;z-index: 1;position: relative;background-color: white;}#sk-container-id-1 div.sk-parallel-item:first-child::after {align-self: flex-end;width: 50%;}#sk-container-id-1 div.sk-parallel-item:last-child::after {align-self: flex-start;width: 50%;}#sk-container-id-1 div.sk-parallel-item:only-child::after {width: 0;}#sk-container-id-1 div.sk-dashed-wrapped {border: 1px dashed gray;margin: 0 0.4em 0.5em 0.4em;box-sizing: border-box;padding-bottom: 0.4em;background-color: white;}#sk-container-id-1 div.sk-label label {font-family: monospace;font-weight: bold;display: inline-block;line-height: 1.2em;}#sk-container-id-1 div.sk-label-container {text-align: center;}#sk-container-id-1 div.sk-container {/* jupyter's `normalize.less` sets `[hidden] { display: none; }` but bootstrap.min.css set `[hidden] { display: none !important; }` so we also need the `!important` here to be able to override the default hidden behavior on the sphinx rendered scikit-learn.org. See: https://github.com/scikit-learn/scikit-learn/issues/21755 */display: inline-block !important;position: relative;}#sk-container-id-1 div.sk-text-repr-fallback {display: none;}</style><div id=\"sk-container-id-1\" class=\"sk-top-container\"><div class=\"sk-text-repr-fallback\"><pre>GaussianNB()</pre><b>In a Jupyter environment, please rerun this cell to show the HTML representation or trust the notebook. <br />On GitHub, the HTML representation is unable to render, please try loading this page with nbviewer.org.</b></div><div class=\"sk-container\" hidden><div class=\"sk-item\"><div class=\"sk-estimator sk-toggleable\"><input class=\"sk-toggleable__control sk-hidden--visually\" id=\"sk-estimator-id-1\" type=\"checkbox\" checked><label for=\"sk-estimator-id-1\" class=\"sk-toggleable__label sk-toggleable__label-arrow\">GaussianNB</label><div class=\"sk-toggleable__content\"><pre>GaussianNB()</pre></div></div></div></div></div>"
      ],
      "text/plain": [
       "GaussianNB()"
      ]
     },
     "execution_count": 7,
     "metadata": {},
     "output_type": "execute_result"
    }
   ],
   "source": [
    "gnb.fit(X_train, y_train)"
   ]
  },
  {
   "cell_type": "code",
   "execution_count": 8,
   "metadata": {},
   "outputs": [],
   "source": [
    "import urllib\n",
    "import requests\n",
    "import re"
   ]
  },
  {
   "cell_type": "code",
   "execution_count": 9,
   "metadata": {},
   "outputs": [],
   "source": [
    "link = \"https://blynk.cloud/external/api/get?token=ew_Jv12VRB7PvwcQ602pDsp3aDoXrrDK&V0\"\n",
    "f = requests.get(link)\n",
    "f1=f.text\n",
    "f1=\"\".join(c for c in f1 if c.isalnum())\n",
    "link2 = \"https://blynk.cloud/external/api/get?token=ew_Jv12VRB7PvwcQ602pDsp3aDoXrrDK&V1\"\n",
    "f = requests.get(link2)\n",
    "f2=f.text\n",
    "f2=\"\".join(c for c in f2 if c.isalnum())\n",
    "link3 = \"https://blynk.cloud/external/api/get?token=ew_Jv12VRB7PvwcQ602pDsp3aDoXrrDK&V2\"\n",
    "f = requests.get(link3)\n",
    "f3=f.text\n",
    "#f3=\"\".join(c for c in f3 if c.isalnum())"
   ]
  },
  {
   "cell_type": "code",
   "execution_count": 10,
   "metadata": {},
   "outputs": [
    {
     "name": "stdout",
     "output_type": "stream",
     "text": [
      "T32H40AQ31CO25G17\n",
      "D113PIR1PRE969\n",
      "LAT:11.10     LON:77.03\n"
     ]
    }
   ],
   "source": [
    "print(f1)\n",
    "print(f2)\n",
    "print(f3)\n",
    "def spliter(line):\n",
    "    dim = ['     LON:','H','AQ','CO','G','PIR','PRE']\n",
    "    remove = ['LAT:','T','D']\n",
    "    for word in remove:\n",
    "        line = line.replace(word,\"\")   \n",
    "    for word in dim:\n",
    "        word = \"\"+word+\"\"\n",
    "        line = line.replace(word,\" \")\n",
    "    return line.split(\" \")\n",
    "result1 = spliter(f1)\n",
    "result2 = spliter(f2)\n",
    "result3 = spliter(f3)"
   ]
  },
  {
   "cell_type": "code",
   "execution_count": 11,
   "metadata": {},
   "outputs": [
    {
     "name": "stdout",
     "output_type": "stream",
     "text": [
      "Temperature :  32\n",
      "Humidity :  40\n",
      "Air Quality :  31\n",
      "Carbon Monoxide :  25\n",
      "Gas :  17\n",
      "Pressure :  969\n",
      "Latitude :  11.10\n",
      "Longitude :  77.03\n"
     ]
    }
   ],
   "source": [
    "print('Temperature : ',result1[0])\n",
    "print('Humidity : ',result1[1])\n",
    "print('Air Quality : ',result1[2])\n",
    "print('Carbon Monoxide : ',result1[3])\n",
    "print('Gas : ',result1[4])\n",
    "print('Pressure : ',result2[2])\n",
    "print('Latitude : ',result3[0])\n",
    "print('Longitude : ',result3[1])"
   ]
  },
  {
   "cell_type": "code",
   "execution_count": 12,
   "metadata": {},
   "outputs": [],
   "source": [
    "sensordata = [[int(result1[0]),int(result1[1]),int(result1[2]),int(result1[3]),int(result1[4]),int(result2[2]),float(result3[0]),float(result3[1])]]\n",
    "#print(sensordata)"
   ]
  },
  {
   "cell_type": "code",
   "execution_count": 13,
   "metadata": {},
   "outputs": [],
   "source": [
    "y_pred = gnb.predict(sensordata)"
   ]
  },
  {
   "cell_type": "code",
   "execution_count": 14,
   "metadata": {},
   "outputs": [
    {
     "name": "stdout",
     "output_type": "stream",
     "text": [
      "[2]\n"
     ]
    }
   ],
   "source": [
    "print(y_pred)"
   ]
  },
  {
   "cell_type": "code",
   "execution_count": 15,
   "metadata": {},
   "outputs": [
    {
     "name": "stdout",
     "output_type": "stream",
     "text": [
      "Good Weather\n"
     ]
    }
   ],
   "source": [
    "res1='2'\n",
    "if y_pred==2:\n",
    "    print('Good Weather')\n",
    "    res1='0'\n",
    "if y_pred==1:\n",
    "    print('Not Good')\n",
    "    res1='1'"
   ]
  }
 ],
 "metadata": {
  "kernelspec": {
   "display_name": "Python 3 (ipykernel)",
   "language": "python",
   "name": "python3"
  },
  "language_info": {
   "codemirror_mode": {
    "name": "ipython",
    "version": 3
   },
   "file_extension": ".py",
   "mimetype": "text/x-python",
   "name": "python",
   "nbconvert_exporter": "python",
   "pygments_lexer": "ipython3",
   "version": "3.11.5"
  }
 },
 "nbformat": 4,
 "nbformat_minor": 2
}
